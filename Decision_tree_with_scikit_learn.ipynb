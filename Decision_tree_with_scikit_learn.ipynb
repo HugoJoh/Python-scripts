{
  "nbformat": 4,
  "nbformat_minor": 0,
  "metadata": {
    "colab": {
      "name": "Decision tree with scikit learn.ipynb",
      "provenance": [],
      "collapsed_sections": [],
      "authorship_tag": "ABX9TyNI8R8uHRnZK8F5n31+oGig"
    },
    "kernelspec": {
      "name": "python3",
      "display_name": "Python 3"
    },
    "language_info": {
      "name": "python"
    }
  },
  "cells": [
    {
      "cell_type": "code",
      "source": [
        "from scipy.io import arff # import arff files\n",
        "import pandas as pd # data processing\n",
        "import numpy as np # working with arrays\n",
        "import matplotlib.pyplot as plt # visualization\n",
        "from matplotlib import rcParams # figure size\n",
        "from sklearn.preprocessing import LabelEncoder # wrangle strings to floats"
      ],
      "metadata": {
        "id": "Rsm6xAFvMI74"
      },
      "execution_count": 3,
      "outputs": []
    },
    {
      "cell_type": "code",
      "execution_count": null,
      "metadata": {
        "id": "6HS9hTjvIqAu"
      },
      "outputs": [],
      "source": [
        "# importing training data\n",
        "data = arff.loadarff('/content/training_subsetD.arff')\n",
        "df = pd.DataFrame(data[0])\n",
        "str_df = df.select_dtypes([np.object])\n",
        "str_df = str_df.stack().str.decode('utf-8').unstack()\n",
        "df = str_df\n",
        "df.shape"
      ]
    },
    {
      "cell_type": "code",
      "source": [
        "# importing test data\n",
        "data = arff.loadarff('/content/testingD.arff')\n",
        "dftest = pd.DataFrame(data[0])\n",
        "str_dftest = dftest.select_dtypes([np.object])\n",
        "str_dftest = str_dftest.stack().str.decode('utf-8').unstack()\n",
        "str_dftest.head()\n",
        "dftest = str_dftest\n",
        "dftest.shape"
      ],
      "metadata": {
        "id": "wOaWIvJaKg5Q"
      },
      "execution_count": null,
      "outputs": []
    },
    {
      "cell_type": "code",
      "source": [
        "#Merging data unique strings + merging these + return unique strings\n",
        "dflist = np.ndarray.tolist(np.unique(df))\n",
        "dftestlist = np.ndarray.tolist(np.unique(dftest))\n",
        "onelist = dflist + dftestlist\n",
        "len(np.unique(onelist))"
      ],
      "metadata": {
        "id": "Fe7Vra2MgSd8"
      },
      "execution_count": null,
      "outputs": []
    },
    {
      "cell_type": "code",
      "source": [
        "#Encode the unique strings for processing in scikit learn\n",
        "le = LabelEncoder()\n",
        "le.fit(onelist)\n",
        "df = np.array([le.transform(i) for i in df.values])\n",
        "dftest = np.array([le.transform(i) for i in dftest.values])"
      ],
      "metadata": {
        "id": "2pZVpdJZxlEr"
      },
      "execution_count": 111,
      "outputs": []
    },
    {
      "cell_type": "code",
      "source": [
        "#Import the DecisionTreeClassifier\n",
        "from sklearn.tree import DecisionTreeClassifier\n",
        "\n",
        "#Assign data labels\n",
        "train_features = df[:,:-1]\n",
        "test_features = dftest[:,:-1]\n",
        "train_targets = df[:,-1]\n",
        "test_targets = dftest[:,-1]\n",
        "\n",
        "#Train the model\n",
        "tree = DecisionTreeClassifier(criterion = 'entropy').fit(train_features,train_targets)\n",
        "\n",
        "#Predict the classes of new, unseen data\n",
        "#prediction = tree.predict(test_features)\n",
        "\n",
        "#Check the accuracy\n",
        "print(\"The prediction accuracy is: \",tree.score(test_features,test_targets)*100,\"%\")\n"
      ],
      "metadata": {
        "id": "PsXRzIFbK5HL"
      },
      "execution_count": null,
      "outputs": []
    }
  ]
}
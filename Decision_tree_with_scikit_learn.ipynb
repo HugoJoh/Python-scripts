{
  "nbformat": 4,
  "nbformat_minor": 0,
  "metadata": {
    "colab": {
      "name": "Decision tree with scikit learn.ipynb",
      "provenance": [],
      "collapsed_sections": [],
      "authorship_tag": "ABX9TyMcin97dZ4ZR+ew37xb7fXh"
    },
    "kernelspec": {
      "name": "python3",
      "display_name": "Python 3"
    },
    "language_info": {
      "name": "python"
    }
  },
  "cells": [
    {
      "cell_type": "code",
      "source": [
        "from scipy.io import arff # import arff files\n",
        "import pandas as pd # data processing\n",
        "import numpy as np # working with arrays\n",
        "import matplotlib.pyplot as plt # visualization\n",
        "from matplotlib import rcParams # figure size\n",
        "import math as math # maths package\n",
        "from statsmodels.stats.power import GofChisquarePower # sample sizing\n",
        "from sklearn.preprocessing import LabelEncoder # wrangle strings to floats"
      ],
      "metadata": {
        "id": "Rsm6xAFvMI74"
      },
      "execution_count": 101,
      "outputs": []
    },
    {
      "cell_type": "code",
      "execution_count": null,
      "metadata": {
        "id": "6HS9hTjvIqAu"
      },
      "outputs": [],
      "source": [
        "# importing training data\n",
        "data = arff.loadarff('/content/training_subsetD.arff')\n",
        "df = pd.DataFrame(data[0])\n",
        "str_df = df.select_dtypes([np.object])\n",
        "str_df = str_df.stack().str.decode('utf-8').unstack()\n",
        "df = str_df\n",
        "df.shape"
      ]
    },
    {
      "cell_type": "code",
      "source": [
        "# importing test data\n",
        "data = arff.loadarff('/content/testingD.arff')\n",
        "dftest = pd.DataFrame(data[0])\n",
        "str_dftest = dftest.select_dtypes([np.object])\n",
        "str_dftest = str_dftest.stack().str.decode('utf-8').unstack()\n",
        "str_dftest.head()\n",
        "dftest = str_dftest\n",
        "dftest.shape"
      ],
      "metadata": {
        "id": "wOaWIvJaKg5Q"
      },
      "execution_count": null,
      "outputs": []
    },
    {
      "cell_type": "code",
      "source": [
        "# characterize the response\n",
        "train_targets = df[\"Class\"]\n",
        "num_yes = train_targets.value_counts()[1]\n",
        "n = df.shape[0]\n",
        "prob_yes = num_yes/n\n",
        "mean = n*prob_yes\n",
        "sd = math.sqrt(n*prob_yes*(1-prob_yes))"
      ],
      "metadata": {
        "id": "bKu2vveyrTDx"
      },
      "execution_count": 28,
      "outputs": []
    },
    {
      "cell_type": "code",
      "source": [
        "# merging data unique strings + merging these + return unique strings\n",
        "dflist = np.ndarray.tolist(np.unique(df))\n",
        "dftestlist = np.ndarray.tolist(np.unique(dftest))\n",
        "onelist = dflist + dftestlist\n",
        "len(np.unique(onelist))"
      ],
      "metadata": {
        "id": "Fe7Vra2MgSd8",
        "colab": {
          "base_uri": "https://localhost:8080/"
        },
        "outputId": "5a84ac38-e9fc-4e96-ad77-d4850d3ce596"
      },
      "execution_count": 53,
      "outputs": [
        {
          "output_type": "execute_result",
          "data": {
            "text/plain": [
              "844"
            ]
          },
          "metadata": {},
          "execution_count": 53
        }
      ]
    },
    {
      "cell_type": "code",
      "source": [
        "# encode the unique strings for processing in scikit learn\n",
        "le = LabelEncoder()\n",
        "le.fit(onelist)\n",
        "df = np.array([le.transform(i) for i in df.values])\n",
        "dftest = np.array([le.transform(i) for i in dftest.values])"
      ],
      "metadata": {
        "id": "2pZVpdJZxlEr"
      },
      "execution_count": 54,
      "outputs": []
    },
    {
      "cell_type": "code",
      "source": [
        "# import the DecisionTreeClassifier\n",
        "from sklearn.tree import DecisionTreeClassifier\n",
        "\n",
        "# assign data labels\n",
        "train_features = df[:,:-1]\n",
        "test_features = dftest[:,:-1]\n",
        "train_targets = df[:,-1]\n",
        "test_targets = dftest[:,-1]\n",
        "\n",
        "# decision tree function\n",
        "def DT(trainingset_features, testset_features, trainingset_targets, testset_targets, sample_size):\n",
        "    tree = DecisionTreeClassifier(criterion = 'entropy', min_samples_split = sample_size).fit(trainingset_features,trainingset_targets)\n",
        "    #prediction = tree.predict(testset_features) # predict the classes of new, unseen data\n",
        "    accuracy = tree.score(testset_features,testset_targets)*100 # check the accuracy\n",
        "    return accuracy"
      ],
      "metadata": {
        "id": "PsXRzIFbK5HL"
      },
      "execution_count": 86,
      "outputs": []
    },
    {
      "cell_type": "code",
      "source": [
        "effects = np.array(range(3,13,1))/100\n",
        "effects = effects.tolist()\n",
        "effects"
      ],
      "metadata": {
        "id": "JfSQud-M9x32"
      },
      "execution_count": null,
      "outputs": []
    },
    {
      "cell_type": "code",
      "source": [
        "prediction_accuracies = []\n",
        "sample_sizes = []\n",
        "for i in effects :\n",
        "  # parameters for power analysis\n",
        "  effect = i\n",
        "  alpha = 0.05\n",
        "  power = 0.8\n",
        "  # perform power analysis\n",
        "  analysis = GofChisquarePower()\n",
        "  sample_size = analysis.solve_power(effect_size=effect, power=power, nobs=None, alpha=alpha)\n",
        "  sample_sizes.append(sample_size)\n",
        "  accuracy = DT(train_features, test_features, train_targets, test_targets, i)\n",
        "  prediction_accuracies.append(accuracy)\n",
        "plt.plot(effects, prediction_accuracies)\n",
        "plt.xlabel(\"Cohen's h effects\")\n",
        "plt.ylabel('Predictions scores')\n",
        "plt.show()"
      ],
      "metadata": {
        "colab": {
          "base_uri": "https://localhost:8080/",
          "height": 279
        },
        "id": "45ZJqleU1SC5",
        "outputId": "664938ef-8ecd-48be-cc7d-323a19f9009f"
      },
      "execution_count": 108,
      "outputs": [
        {
          "output_type": "display_data",
          "data": {
            "text/plain": [
              "<Figure size 432x288 with 1 Axes>"
            ],
            "image/png": "[encoded data removed]"
          },
          "metadata": {
            "needs_background": "light"
          }
        }
      ]
    }
  ]
}